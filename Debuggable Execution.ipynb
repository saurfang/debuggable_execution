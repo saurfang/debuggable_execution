{
 "cells": [
  {
   "cell_type": "markdown",
   "metadata": {},
   "source": [
    "# Debuggable Execution\n",
    "\n",
    "It is common to have an output that went through multiple transformations.\n",
    "One example is an output that depends on multiple machine learning models.\n",
    "Another example could be a computation that depends on multiple inputs, whose\n",
    "fetching process can fail and use a fall back value.\n",
    "\n",
    "It is desirable to understand from a user perspective what are the dependency\n",
    "and what were the values that returned the final output.\n",
    "\n",
    "## A Tale of Two Agents\n",
    "The following attempts to describe such scenario:\n",
    "\n",
    "There are two agents, Bond and Six, who would go out to recruit warriors from\n",
    "different villages, Avalon, Gotham and Vice. Individual agent goes through village\n",
    "sequentially but either agent conduct their recruiting in parallel.\n",
    "\n",
    "After both agents come back, they go into fight and the one with more recruits won\n",
    "the game.\n",
    "\n",
    "We would like to know not only the winner but also the process history, i.e.:\n",
    "\n",
    "```\n",
    "\"Bond (0) + 6\"--|         Avalon--\"Six (0) + 3\"\n",
    "   |            \\--Gotham           |\n",
    "\"Bond (6) + 2\"-|       |----------\"Six (3) + 0\"\n",
    "   |           \\-Vice--+-----\\      |\n",
    "\"Bond (8) + 3\"---------/      \\---\"Six (3) + 10\"\n",
    "          \\                        /\n",
    "           \"Bond (11) vs. Six (13)\"\n",
    "                    |\n",
    "              \"Six (2) won!\"\n",
    "```\n",
    "\n",
    "We want to construct this graph with as little boiler-plate code as possible\n",
    "such that we can focus on the logic instead of merging of debugging\n",
    "information."
   ]
  },
  {
   "cell_type": "code",
   "execution_count": 8,
   "metadata": {
    "collapsed": true
   },
   "outputs": [],
   "source": [
    "{-# LANGUAGE TemplateHaskell #-}\n",
    "\n",
    "import Control.Concurrent\n",
    "import Control.Concurrent.Async\n",
    "import Control.Lens\n",
    "import Control.Monad.Writer.Lazy\n",
    "import Data.Maybe\n",
    "import Data.Tree as Tree"
   ]
  },
  {
   "cell_type": "markdown",
   "metadata": {},
   "source": [
    "We use a Tree data structure to keep track of task dependencies in DAG.\n",
    "\n",
    "Our requirements are:\n",
    "\n",
    "1. It has a `Monoid` instance for `Writer`\n",
    "2. Dependencies can be merged correctly\n",
    "\n",
    "It is probably reasonable to require each operation must left message via `Node \"...message...\" []` and `mappend` always prepend dependencies onto this node. \n",
    "\n",
    "**This breaks left/right associativity of the monoid.**\n",
    "\n",
    "> Q: What is the right Monoid abstraction for this log?"
   ]
  },
  {
   "cell_type": "code",
   "execution_count": 2,
   "metadata": {
    "collapsed": false
   },
   "outputs": [],
   "source": [
    "data DAGLog a = Node (Maybe a) [DAGLog a] | Leaf a | Empty deriving (Show)  \n",
    "\n",
    "instance Monoid (DAGLog t) where  \n",
    "    mempty = Empty\n",
    "    -- left identify\n",
    "    mappend Empty a = a\n",
    "    -- right identity\n",
    "    mappend a Empty = a\n",
    "    -- merge into logging node\n",
    "    mappend a (Node m logs) = Node m (a : logs)\n",
    "    -- merge any other two nodes are illegal as far as our use case is concerned\n",
    "    mappend _ _ = error \"Must merge into node\"\n",
    "    \n",
    "nodeMessage :: String -> DAGLog String\n",
    "nodeMessage m = Node (Just m) []\n",
    "\n",
    "-- recruited = (gotham `mappend` (bond `mappend` (nodeMessage \"Found one!\")))\n",
    "--     where gotham = Leaf \"Gotham was found!\"\n",
    "--           bond = Leaf \"Bond was born!\"\n",
    "-- recruited"
   ]
  },
  {
   "cell_type": "markdown",
   "metadata": {},
   "source": [
    "Next we define Villages and Agents respectively. We use Lens to simplify Agent data transformation.\n",
    "\n",
    "The `recruit` function is a blocking IO action that simulate agent goes into village for recruiting."
   ]
  },
  {
   "cell_type": "code",
   "execution_count": 19,
   "metadata": {
    "collapsed": false
   },
   "outputs": [],
   "source": [
    "type Message = String\n",
    "data Village = Avalon | Gotham | Vice deriving (Show)\n",
    "logVillage :: Village -> WriterT (DAGLog String) IO Village\n",
    "logVillage v = writer (v, Leaf $ show v ++ \" was found!\")\n",
    "\n",
    "type Recruits = Int\n",
    "data Agent = Bond {_r :: Recruits} | Six {_r :: Recruits} deriving Show\n",
    "logAgent :: Agent -> WriterT (DAGLog String) IO Agent\n",
    "logAgent v = writer (v, Leaf $ show v ++ \" was born!\")\n",
    "makeLenses ''Agent\n",
    "\n",
    "add :: Agent -> Recruits -> Agent\n",
    "add agent n = r %~ (+n) $ agent\n",
    "\n",
    "-- Agent goes into Village to `recruit` more Recruits (blocking process)\n",
    "recruit :: Agent -> Village -> WriterT (DAGLog String) IO Agent\n",
    "\n",
    "type Seconds = Int\n",
    "recruit' :: Agent -> Seconds -> Recruits -> Message -> WriterT (DAGLog String) IO Agent\n",
    "recruit' a d r m = do\n",
    "  tell $ nodeMessage m\n",
    "  lift $ threadDelay $ d * 10 ^ 6\n",
    "  return $ a `add` r\n",
    "\n",
    "recruit a@(Bond 0) Gotham = recruit' a 3 6 \"Bond knew 6 perfect dudes at Gotham.\"\n",
    "recruit a@(Bond _) Gotham = recruit' a 2 3 \"Only got 3 this time.\"\n",
    "recruit a@(Bond _) Vice = recruit' a 1 2 \"Bond fetched 2 agents in just a second!\"\n",
    "\n",
    "recruit a@(Six _) Avalon = recruit' a 1 3 \"3 ==> 6!\"\n",
    "recruit a@(Six _) Vice = recruit' a 2 10 \"Number Six snatched 10 agents swiftly.\"\n",
    "\n",
    "recruit a _ = recruit' a 0 0 \"No one was willing to join the cause. Sadness...\""
   ]
  },
  {
   "cell_type": "markdown",
   "metadata": {},
   "source": [
    "Combat is a simple function that compares two agent and declare the one with more recruits the winner."
   ]
  },
  {
   "cell_type": "code",
   "execution_count": 21,
   "metadata": {
    "collapsed": false
   },
   "outputs": [],
   "source": [
    "combat :: Agent -> Agent -> WriterT (DAGLog String) IO (Maybe Agent)\n",
    "combat agentX agentY = case compare x y of\n",
    "    LT -> do\n",
    "      lift $ threadDelay $ x * 10 ^ 5\n",
    "      tell (nodeMessage $ show winnerY ++ \" won!\")\n",
    "      return $ Just winnerY\n",
    "    GT -> do\n",
    "      lift $ threadDelay $ y * 10 ^ 5\n",
    "      tell (nodeMessage $ show winnerX ++ \" won!\")\n",
    "      return $ Just winnerX\n",
    "    EQ -> do\n",
    "      lift $ threadDelay $ x * 10 ^ 5\n",
    "      tell (nodeMessage \"It was a tie!\")\n",
    "      return Nothing\n",
    "    where x = agentX^.r\n",
    "          y = agentY^.r\n",
    "          winnerX = agentX `add` (-y)\n",
    "          winnerY = agentY `add` (-x)"
   ]
  },
  {
   "cell_type": "markdown",
   "metadata": {},
   "source": [
    "Now we can take this for a swirl. We replicate the tree in the example. For the most part, this seems successful in a sense that we can express logic without worrying too much about logging.\n",
    "\n",
    "It is unsatisfactory that we have to nest operations to create the right boundary. The nesting is also in the wrong direction:\n",
    "\n",
    "```haskell\n",
    "recruit3 (recruit2 (recruit1 agent))\n",
    "```\n",
    "instead of \n",
    "```haskell\n",
    "agent |> recruit1 |> recruit2 |> recruit3\n",
    "```\n",
    "\n",
    "Note we can throw in `async` to agents to fulfill our requirement of concurrency quite easily. It is omitted here for simplicity."
   ]
  },
  {
   "cell_type": "code",
   "execution_count": 22,
   "metadata": {
    "collapsed": false
   },
   "outputs": [
    {
     "data": {
      "text/html": [
       "<style>/* Styles used for the Hoogle display in the pager */\n",
       ".hoogle-doc {\n",
       "display: block;\n",
       "padding-bottom: 1.3em;\n",
       "padding-left: 0.4em;\n",
       "}\n",
       ".hoogle-code {\n",
       "display: block;\n",
       "font-family: monospace;\n",
       "white-space: pre;\n",
       "}\n",
       ".hoogle-text {\n",
       "display: block;\n",
       "}\n",
       ".hoogle-name {\n",
       "color: green;\n",
       "font-weight: bold;\n",
       "}\n",
       ".hoogle-head {\n",
       "font-weight: bold;\n",
       "}\n",
       ".hoogle-sub {\n",
       "display: block;\n",
       "margin-left: 0.4em;\n",
       "}\n",
       ".hoogle-package {\n",
       "font-weight: bold;\n",
       "font-style: italic;\n",
       "}\n",
       ".hoogle-module {\n",
       "font-weight: bold;\n",
       "}\n",
       ".hoogle-class {\n",
       "font-weight: bold;\n",
       "}\n",
       ".get-type {\n",
       "color: green;\n",
       "font-weight: bold;\n",
       "font-family: monospace;\n",
       "display: block;\n",
       "white-space: pre-wrap;\n",
       "}\n",
       ".show-type {\n",
       "color: green;\n",
       "font-weight: bold;\n",
       "font-family: monospace;\n",
       "margin-left: 1em;\n",
       "}\n",
       ".mono {\n",
       "font-family: monospace;\n",
       "display: block;\n",
       "}\n",
       ".err-msg {\n",
       "color: red;\n",
       "font-style: italic;\n",
       "font-family: monospace;\n",
       "white-space: pre;\n",
       "display: block;\n",
       "}\n",
       "#unshowable {\n",
       "color: red;\n",
       "font-weight: bold;\n",
       "}\n",
       ".err-msg.in.collapse {\n",
       "padding-top: 0.7em;\n",
       "}\n",
       ".highlight-code {\n",
       "white-space: pre;\n",
       "font-family: monospace;\n",
       "}\n",
       ".suggestion-warning { \n",
       "font-weight: bold;\n",
       "color: rgb(200, 130, 0);\n",
       "}\n",
       ".suggestion-error { \n",
       "font-weight: bold;\n",
       "color: red;\n",
       "}\n",
       ".suggestion-name {\n",
       "font-weight: bold;\n",
       "}\n",
       "</style><span style='color: green; font-weight: bold;'>Just</span><span style='font-family: monospace;'>Six {_r = 2}</span>"
      ],
      "text/plain": [
       "Just (Six {_r = 2})"
      ]
     },
     "metadata": {},
     "output_type": "display_data"
    }
   ],
   "source": [
    "bondW :: WriterT (DAGLog String) IO Agent\n",
    "bondW = \n",
    "    (do\n",
    "        bond <- logAgent $ Bond 0\n",
    "        gotham <- gothamW\n",
    "        bond `recruit` gotham) >>=\n",
    "    (\\bond -> do\n",
    "        vice <- viceW\n",
    "        bond `recruit` vice) >>=\n",
    "    (\\bond -> do\n",
    "        gotham <- gothamW\n",
    "        bond `recruit` gotham)\n",
    "  where avalonW = logVillage Avalon\n",
    "        gothamW = logVillage Gotham\n",
    "        viceW = logVillage Vice\n",
    "\n",
    "sixW :: WriterT (DAGLog String) IO Agent\n",
    "sixW =\n",
    "    (do\n",
    "        six <- logAgent $ Six 0\n",
    "        avalon <- avalonW\n",
    "        six `recruit` avalon) >>=\n",
    "    (\\six -> do\n",
    "        gotham <- gothamW\n",
    "        six `recruit` gotham) >>=\n",
    "    (\\six -> do\n",
    "        vice <- viceW\n",
    "        six `recruit` vice)\n",
    "  where avalonW = logVillage Avalon\n",
    "        gothamW = logVillage Gotham\n",
    "        viceW = logVillage Vice\n",
    "\n",
    "rec1 :: WriterT (DAGLog String) IO (Maybe Agent)\n",
    "rec1 = do\n",
    "  bond <- bondW\n",
    "  six <- sixW\n",
    "  bond `combat` six\n",
    "fmap fst $ runWriterT rec1"
   ]
  },
  {
   "cell_type": "markdown",
   "metadata": {},
   "source": [
    "We transform our `DAGLog` to a `Tree` for visualization:"
   ]
  },
  {
   "cell_type": "code",
   "execution_count": 9,
   "metadata": {
    "collapsed": false
   },
   "outputs": [],
   "source": [
    "toTree :: Monoid a => DAGLog a -> Tree.Tree a\n",
    "toTree (Leaf a) = Tree.Node a []\n",
    "toTree (Node m l) = Tree.Node (fromMaybe mempty m) (map toTree l)\n",
    "\n",
    "printTree :: (WriterT (DAGLog String) IO a) -> IO ()\n",
    "printTree w = do\n",
    "    res <- runWriterT w\n",
    "    putStrLn $ drawTree $ toTree $ snd res"
   ]
  },
  {
   "cell_type": "code",
   "execution_count": 10,
   "metadata": {
    "collapsed": false
   },
   "outputs": [
    {
     "data": {
      "text/plain": [
       "Six {_r = 2} won!\n",
       "|\n",
       "+- Only got 3 this time.\n",
       "|  |\n",
       "|  +- Bond fetched 2 agents in just a second!\n",
       "|  |  |\n",
       "|  |  +- Bond knew 6 perfect dudes at Gotham.\n",
       "|  |  |  |\n",
       "|  |  |  +- Bond {_r = 0} was born!\n",
       "|  |  |  |\n",
       "|  |  |  `- Gotham was found!\n",
       "|  |  |\n",
       "|  |  `- Vice was found!\n",
       "|  |\n",
       "|  `- Gotham was found!\n",
       "|\n",
       "`- Number Six snatched 10 agents swiftly.\n",
       "   |\n",
       "   +- No one was willing to join the cause. Sadness...\n",
       "   |  |\n",
       "   |  +- 3 ==> 6!\n",
       "   |  |  |\n",
       "   |  |  +- Six {_r = 0} was born!\n",
       "   |  |  |\n",
       "   |  |  `- Avalon was found!\n",
       "   |  |\n",
       "   |  `- Gotham was found!\n",
       "   |\n",
       "   `- Vice was found!"
      ]
     },
     "metadata": {},
     "output_type": "display_data"
    }
   ],
   "source": [
    "printTree rec1"
   ]
  },
  {
   "cell_type": "code",
   "execution_count": 25,
   "metadata": {
    "collapsed": false
   },
   "outputs": [
    {
     "data": {
      "text/plain": [
       "1"
      ]
     },
     "metadata": {},
     "output_type": "display_data"
    }
   ],
   "source": [
    "1"
   ]
  },
  {
   "cell_type": "code",
   "execution_count": null,
   "metadata": {
    "collapsed": true
   },
   "outputs": [],
   "source": []
  }
 ],
 "metadata": {
  "kernelspec": {
   "display_name": "Haskell",
   "language": "haskell",
   "name": "haskell"
  },
  "language_info": {
   "codemirror_mode": "ihaskell",
   "file_extension": ".hs",
   "name": "haskell",
   "version": "7.10.2"
  }
 },
 "nbformat": 4,
 "nbformat_minor": 0
}
